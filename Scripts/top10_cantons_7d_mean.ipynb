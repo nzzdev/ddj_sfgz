{
 "cells": [
  {
   "cell_type": "markdown",
   "id": "f27bc564",
   "metadata": {},
   "source": [
    "# Impfquoten 7-Tage-Schnitt Top 10 Kantone exportieren\n",
    "https://app.datawrapper.de/chart/cHMOh/visualize#refine"
   ]
  },
  {
   "cell_type": "code",
   "execution_count": 73,
   "id": "09dbed55",
   "metadata": {},
   "outputs": [],
   "source": [
    "import pandas as pd\n",
    "from pathlib import Path\n",
    "import numpy as np\n",
    "from datetime import datetime, timedelta"
   ]
  },
  {
   "cell_type": "code",
   "execution_count": 75,
   "id": "2bfa95c7",
   "metadata": {},
   "outputs": [],
   "source": [
    "df = pd.read_csv(Path('../bag_covid_19_data_csv/data/COVID19Cases_geoRegion.csv'))\n",
    "\n",
    "df = df[df.isin(['CH', 'CHFL', 'FL']) == False]\n",
    "df = df.dropna(axis = 0, subset = ['geoRegion'])\n",
    "\n",
    "# as Datetime\n",
    "df['datum'] = pd.to_datetime(df['datum'])\n",
    "\n",
    "# From yesterday\n",
    "df = df[df.datum <= (df.datum.max() - timedelta(days=1))]\n",
    "\n",
    "# Calc per 100'000\n",
    "df['per100k'] = df['entries'] / df['pop'] * 100000\n",
    "\n",
    "# Find top 10\n",
    "df_top = df[df.datum == df.datum.max()].sort_values('entries', ascending=False)\n",
    "\n",
    "top10 = df_top.head(10)['geoRegion']\n",
    "df = df[df.geoRegion.isin(top10)]\n",
    "\n",
    "df_new = []\n",
    "\n",
    "# Calc rolling for each canton\n",
    "for g in df.geoRegion.unique():\n",
    "    df_x = df[df.geoRegion == g].copy()\n",
    "    df_x['7tageinzidenz'] = round(df_x['per100k'].rolling(window=7).mean(), 1)\n",
    "    df_new.append(df_x)\n",
    "    \n",
    "df_new = pd.concat(df_new)\n",
    "\n",
    "# Pivot on Canton\n",
    "df_new = pd.pivot_table(df_new, index='datum', columns='geoRegion', values='7tageinzidenz').reset_index()\n",
    "\n",
    "df_new.to_clipboard(index=False)\n",
    "#df_new[['geoRegion', 'datum', 'entries', '7tageinzidenz']].to_clipboard(index=False)"
   ]
  },
  {
   "cell_type": "code",
   "execution_count": null,
   "id": "ad8861d2",
   "metadata": {},
   "outputs": [],
   "source": []
  }
 ],
 "metadata": {
  "kernelspec": {
   "display_name": "Python 3",
   "language": "python",
   "name": "python3"
  },
  "language_info": {
   "codemirror_mode": {
    "name": "ipython",
    "version": 3
   },
   "file_extension": ".py",
   "mimetype": "text/x-python",
   "name": "python",
   "nbconvert_exporter": "python",
   "pygments_lexer": "ipython3",
   "version": "3.9.6"
  }
 },
 "nbformat": 4,
 "nbformat_minor": 5
}
